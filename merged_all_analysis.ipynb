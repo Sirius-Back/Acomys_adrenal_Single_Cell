{
 "cells": [
  {
   "cell_type": "code",
   "execution_count": 2,
   "id": "ff0bf0e2-78f2-4ecc-965a-0c53678a00a2",
   "metadata": {},
   "outputs": [],
   "source": [
    "# transfer seurat object to scanpy format\n",
    "#!pip install dask\n",
    "\n",
    "import dask.dataframe as dd\n",
    "import scanpy as sc"
   ]
  },
  {
   "cell_type": "code",
   "execution_count": 3,
   "id": "d69e6bbe-b0ad-4361-95f2-ebdf52f3e353",
   "metadata": {},
   "outputs": [
    {
     "name": "stdout",
     "output_type": "stream",
     "text": [
      "AnnData object with n_obs × n_vars = 78383 × 8105 backed at 'merged_acomys_mice_all.h5ad'\n",
      "    obs: 'orig.ident', 'nCount_RNA', 'nFeature_RNA', 'percent.mito', 'nCount_SCT', 'nFeature_SCT', 'S.Score', 'G2M.Score', 'Phase', 'old.ident', 'scDblFinder_class'\n",
      "    var: 'features'\n"
     ]
    }
   ],
   "source": [
    "# Load the H5AD file\n",
    "adata = sc.read_h5ad(\"merged_acomys_mice_all.h5ad\", backed='r')\n",
    "\n",
    "# Explore the AnnData object\n",
    "print(adata)"
   ]
  },
  {
   "cell_type": "code",
   "execution_count": 4,
   "id": "9f1c860d-ed8f-4717-9379-75861b2be304",
   "metadata": {},
   "outputs": [
    {
     "data": {
      "text/html": [
       "<div>\n",
       "<style scoped>\n",
       "    .dataframe tbody tr th:only-of-type {\n",
       "        vertical-align: middle;\n",
       "    }\n",
       "\n",
       "    .dataframe tbody tr th {\n",
       "        vertical-align: top;\n",
       "    }\n",
       "\n",
       "    .dataframe thead th {\n",
       "        text-align: right;\n",
       "    }\n",
       "</style>\n",
       "<table border=\"1\" class=\"dataframe\">\n",
       "  <thead>\n",
       "    <tr style=\"text-align: right;\">\n",
       "      <th></th>\n",
       "      <th>orig.ident</th>\n",
       "      <th>nCount_RNA</th>\n",
       "      <th>nFeature_RNA</th>\n",
       "      <th>percent.mito</th>\n",
       "      <th>nCount_SCT</th>\n",
       "      <th>nFeature_SCT</th>\n",
       "      <th>S.Score</th>\n",
       "      <th>G2M.Score</th>\n",
       "      <th>Phase</th>\n",
       "      <th>old.ident</th>\n",
       "      <th>scDblFinder_class</th>\n",
       "    </tr>\n",
       "  </thead>\n",
       "  <tbody>\n",
       "    <tr>\n",
       "      <th>AdGl_Ma_AAACCTGAGAAAGTGG</th>\n",
       "      <td>AdGl</td>\n",
       "      <td>6647.0</td>\n",
       "      <td>2294</td>\n",
       "      <td>0.0</td>\n",
       "      <td>5019.0</td>\n",
       "      <td>2260</td>\n",
       "      <td>0.022158</td>\n",
       "      <td>-0.071532</td>\n",
       "      <td>S</td>\n",
       "      <td>AdGl</td>\n",
       "      <td>NA</td>\n",
       "    </tr>\n",
       "    <tr>\n",
       "      <th>AdGl_Ma_AAACCTGAGCAGATCG</th>\n",
       "      <td>AdGl</td>\n",
       "      <td>2647.0</td>\n",
       "      <td>1410</td>\n",
       "      <td>0.0</td>\n",
       "      <td>3668.0</td>\n",
       "      <td>1417</td>\n",
       "      <td>0.031455</td>\n",
       "      <td>0.019771</td>\n",
       "      <td>S</td>\n",
       "      <td>AdGl</td>\n",
       "      <td>NA</td>\n",
       "    </tr>\n",
       "    <tr>\n",
       "      <th>AdGl_Ma_AAACCTGAGTGACATA</th>\n",
       "      <td>AdGl</td>\n",
       "      <td>1036.0</td>\n",
       "      <td>661</td>\n",
       "      <td>0.0</td>\n",
       "      <td>3383.0</td>\n",
       "      <td>1092</td>\n",
       "      <td>0.029832</td>\n",
       "      <td>-0.030762</td>\n",
       "      <td>S</td>\n",
       "      <td>AdGl</td>\n",
       "      <td>NA</td>\n",
       "    </tr>\n",
       "    <tr>\n",
       "      <th>AdGl_Ma_AAACCTGCACGGTAGA</th>\n",
       "      <td>AdGl</td>\n",
       "      <td>6456.0</td>\n",
       "      <td>2359</td>\n",
       "      <td>0.0</td>\n",
       "      <td>5026.0</td>\n",
       "      <td>2324</td>\n",
       "      <td>-0.017696</td>\n",
       "      <td>-0.048977</td>\n",
       "      <td>G1</td>\n",
       "      <td>AdGl</td>\n",
       "      <td>NA</td>\n",
       "    </tr>\n",
       "    <tr>\n",
       "      <th>AdGl_Ma_AAACCTGGTACTCTCC</th>\n",
       "      <td>AdGl</td>\n",
       "      <td>2996.0</td>\n",
       "      <td>1454</td>\n",
       "      <td>0.0</td>\n",
       "      <td>3884.0</td>\n",
       "      <td>1445</td>\n",
       "      <td>0.007320</td>\n",
       "      <td>-0.055501</td>\n",
       "      <td>S</td>\n",
       "      <td>AdGl</td>\n",
       "      <td>NA</td>\n",
       "    </tr>\n",
       "  </tbody>\n",
       "</table>\n",
       "</div>"
      ],
      "text/plain": [
       "                         orig.ident  nCount_RNA  nFeature_RNA  percent.mito  \\\n",
       "AdGl_Ma_AAACCTGAGAAAGTGG       AdGl      6647.0          2294           0.0   \n",
       "AdGl_Ma_AAACCTGAGCAGATCG       AdGl      2647.0          1410           0.0   \n",
       "AdGl_Ma_AAACCTGAGTGACATA       AdGl      1036.0           661           0.0   \n",
       "AdGl_Ma_AAACCTGCACGGTAGA       AdGl      6456.0          2359           0.0   \n",
       "AdGl_Ma_AAACCTGGTACTCTCC       AdGl      2996.0          1454           0.0   \n",
       "\n",
       "                          nCount_SCT  nFeature_SCT   S.Score  G2M.Score Phase  \\\n",
       "AdGl_Ma_AAACCTGAGAAAGTGG      5019.0          2260  0.022158  -0.071532     S   \n",
       "AdGl_Ma_AAACCTGAGCAGATCG      3668.0          1417  0.031455   0.019771     S   \n",
       "AdGl_Ma_AAACCTGAGTGACATA      3383.0          1092  0.029832  -0.030762     S   \n",
       "AdGl_Ma_AAACCTGCACGGTAGA      5026.0          2324 -0.017696  -0.048977    G1   \n",
       "AdGl_Ma_AAACCTGGTACTCTCC      3884.0          1445  0.007320  -0.055501     S   \n",
       "\n",
       "                         old.ident scDblFinder_class  \n",
       "AdGl_Ma_AAACCTGAGAAAGTGG      AdGl                NA  \n",
       "AdGl_Ma_AAACCTGAGCAGATCG      AdGl                NA  \n",
       "AdGl_Ma_AAACCTGAGTGACATA      AdGl                NA  \n",
       "AdGl_Ma_AAACCTGCACGGTAGA      AdGl                NA  \n",
       "AdGl_Ma_AAACCTGGTACTCTCC      AdGl                NA  "
      ]
     },
     "execution_count": 4,
     "metadata": {},
     "output_type": "execute_result"
    }
   ],
   "source": [
    "adata.obs.head()"
   ]
  },
  {
   "cell_type": "code",
   "execution_count": 16,
   "id": "c758e576-ad38-4ca8-a30b-0aa5396d75b6",
   "metadata": {},
   "outputs": [
    {
     "name": "stdout",
     "output_type": "stream",
     "text": [
      "Collecting pertpy\n",
      "  Downloading pertpy-0.4.0-py3-none-any.whl (118 kB)\n",
      "\u001b[K     |████████████████████████████████| 118 kB 2.1 MB/s eta 0:00:01\n",
      "\u001b[?25hCollecting ipywidgets>=7.6.5\n",
      "  Downloading ipywidgets-8.1.5-py3-none-any.whl (139 kB)\n",
      "\u001b[K     |████████████████████████████████| 139 kB 15.6 MB/s eta 0:00:01\n",
      "\u001b[?25hCollecting switchlang<0.2.0,>=0.1.0\n",
      "  Downloading switchlang-0.1.0-py3-none-any.whl (6.3 kB)\n",
      "Collecting protobuf==3.20.1\n",
      "  Downloading protobuf-3.20.1-cp38-cp38-manylinux_2_5_x86_64.manylinux1_x86_64.whl (1.0 MB)\n",
      "\u001b[K     |████████████████████████████████| 1.0 MB 6.6 MB/s eta 0:00:01\n",
      "\u001b[?25hCollecting scvi-tools<0.20.0,>=0.19.0\n",
      "  Downloading scvi_tools-0.19.0-py3-none-any.whl (296 kB)\n",
      "\u001b[K     |████████████████████████████████| 296 kB 33.8 MB/s eta 0:00:01\n",
      "\u001b[?25hCollecting adjusttext<0.8.0,>=0.7.3\n",
      "  Downloading adjustText-0.7.3.tar.gz (7.5 kB)\n",
      "Collecting leidenalg<0.10.0,>=0.9.0\n",
      "  Downloading leidenalg-0.9.1-cp38-cp38-manylinux_2_17_x86_64.manylinux2014_x86_64.whl (1.3 MB)\n",
      "\u001b[K     |████████████████████████████████| 1.3 MB 32.4 MB/s eta 0:00:01\n",
      "\u001b[?25hCollecting pyqt5<6.0.0,>=5.15.9\n",
      "  Downloading PyQt5-5.15.11.tar.gz (3.2 MB)\n",
      "\u001b[K     |████████████████████████████████| 3.2 MB 26.3 MB/s eta 0:00:01\n",
      "\u001b[?25h  Installing build dependencies ... \u001b[?25ldone\n",
      "\u001b[?25h  Getting requirements to build wheel ... \u001b[?25ldone\n",
      "\u001b[?25h    Preparing wheel metadata ... \u001b[?25lerror\n",
      "\u001b[31m    ERROR: Command errored out with exit status 1:\n",
      "     command: /usr/bin/python3 /scratch/tmp5gqw1wre prepare_metadata_for_build_wheel /scratch/tmpb0rbjt39\n",
      "         cwd: /scratch/pip-install-3gg5biuk/pyqt5\n",
      "    Complete output (31 lines):\n",
      "    Traceback (most recent call last):\n",
      "      File \"/scratch/tmp5gqw1wre\", line 126, in prepare_metadata_for_build_wheel\n",
      "        hook = backend.prepare_metadata_for_build_wheel\n",
      "    AttributeError: module 'sipbuild.api' has no attribute 'prepare_metadata_for_build_wheel'\n",
      "    \n",
      "    During handling of the above exception, another exception occurred:\n",
      "    \n",
      "    Traceback (most recent call last):\n",
      "      File \"/scratch/tmp5gqw1wre\", line 280, in <module>\n",
      "        main()\n",
      "      File \"/scratch/tmp5gqw1wre\", line 263, in main\n",
      "        json_out['return_val'] = hook(**hook_input['kwargs'])\n",
      "      File \"/scratch/tmp5gqw1wre\", line 130, in prepare_metadata_for_build_wheel\n",
      "        return _get_wheel_metadata_from_wheel(backend, metadata_directory,\n",
      "      File \"/scratch/tmp5gqw1wre\", line 159, in _get_wheel_metadata_from_wheel\n",
      "        whl_basename = backend.build_wheel(metadata_directory, config_settings)\n",
      "      File \"/scratch/pip-build-env-z_72_g6g/overlay/lib/python3.8/site-packages/sipbuild/api.py\", line 28, in build_wheel\n",
      "        project = AbstractProject.bootstrap('wheel',\n",
      "      File \"/scratch/pip-build-env-z_72_g6g/overlay/lib/python3.8/site-packages/sipbuild/abstract_project.py\", line 74, in bootstrap\n",
      "        project.setup(pyproject, tool, tool_description)\n",
      "      File \"/scratch/pip-build-env-z_72_g6g/overlay/lib/python3.8/site-packages/sipbuild/project.py\", line 608, in setup\n",
      "        self.apply_user_defaults(tool)\n",
      "      File \"/scratch/pip-install-3gg5biuk/pyqt5/project.py\", line 68, in apply_user_defaults\n",
      "        super().apply_user_defaults(tool)\n",
      "      File \"/scratch/pip-build-env-z_72_g6g/overlay/lib/python3.8/site-packages/pyqtbuild/project.py\", line 51, in apply_user_defaults\n",
      "        super().apply_user_defaults(tool)\n",
      "      File \"/scratch/pip-build-env-z_72_g6g/overlay/lib/python3.8/site-packages/sipbuild/project.py\", line 237, in apply_user_defaults\n",
      "        self.builder.apply_user_defaults(tool)\n",
      "      File \"/scratch/pip-build-env-z_72_g6g/overlay/lib/python3.8/site-packages/pyqtbuild/builder.py\", line 49, in apply_user_defaults\n",
      "        raise PyProjectOptionException('qmake',\n",
      "    sipbuild.pyproject.PyProjectOptionException\n",
      "    ----------------------------------------\u001b[0m\n",
      "\u001b[31mERROR: Command errored out with exit status 1: /usr/bin/python3 /scratch/tmp5gqw1wre prepare_metadata_for_build_wheel /scratch/tmpb0rbjt39 Check the logs for full command output.\u001b[0m\n",
      "\u001b[?25h"
     ]
    },
    {
     "ename": "ModuleNotFoundError",
     "evalue": "No module named 'pertpy'",
     "output_type": "error",
     "traceback": [
      "\u001b[0;31m---------------------------------------------------------------------------\u001b[0m",
      "\u001b[0;31mModuleNotFoundError\u001b[0m                       Traceback (most recent call last)",
      "\u001b[0;32m/scratch/ipykernel_1203290/155247488.py\u001b[0m in \u001b[0;36m<module>\u001b[0;34m\u001b[0m\n\u001b[1;32m     10\u001b[0m \u001b[0;32mimport\u001b[0m \u001b[0mnumpy\u001b[0m \u001b[0;32mas\u001b[0m \u001b[0mnp\u001b[0m\u001b[0;34m\u001b[0m\u001b[0;34m\u001b[0m\u001b[0m\n\u001b[1;32m     11\u001b[0m \u001b[0mget_ipython\u001b[0m\u001b[0;34m(\u001b[0m\u001b[0;34m)\u001b[0m\u001b[0;34m.\u001b[0m\u001b[0msystem\u001b[0m\u001b[0;34m(\u001b[0m\u001b[0;34m'pip install pertpy'\u001b[0m\u001b[0;34m)\u001b[0m\u001b[0;34m\u001b[0m\u001b[0;34m\u001b[0m\u001b[0m\n\u001b[0;32m---> 12\u001b[0;31m \u001b[0;32mimport\u001b[0m \u001b[0mpertpy\u001b[0m \u001b[0;32mas\u001b[0m \u001b[0mpt\u001b[0m\u001b[0;34m\u001b[0m\u001b[0;34m\u001b[0m\u001b[0m\n\u001b[0m\u001b[1;32m     13\u001b[0m \u001b[0;32mimport\u001b[0m \u001b[0mscanpy\u001b[0m \u001b[0;32mas\u001b[0m \u001b[0msc\u001b[0m\u001b[0;34m\u001b[0m\u001b[0;34m\u001b[0m\u001b[0m\n\u001b[1;32m     14\u001b[0m \u001b[0;32mimport\u001b[0m \u001b[0mseaborn\u001b[0m \u001b[0;32mas\u001b[0m \u001b[0msns\u001b[0m\u001b[0;34m\u001b[0m\u001b[0;34m\u001b[0m\u001b[0m\n",
      "\u001b[0;31mModuleNotFoundError\u001b[0m: No module named 'pertpy'"
     ]
    }
   ],
   "source": [
    "import warnings\n",
    "\n",
    "import pandas as pd\n",
    "\n",
    "warnings.filterwarnings(\"ignore\")\n",
    "warnings.simplefilter(\"ignore\")\n",
    "\n",
    "import matplotlib\n",
    "import matplotlib.pyplot as plt\n",
    "import numpy as np\n",
    "!pip install pertpy\n",
    "import pertpy as pt\n",
    "import scanpy as sc\n",
    "import seaborn as sns"
   ]
  },
  {
   "cell_type": "code",
   "execution_count": 10,
   "id": "440e11fe-fab2-4117-bcfe-a60ad2c3ac6f",
   "metadata": {},
   "outputs": [],
   "source": [
    "# mitochondrial genes\n",
    "adata.var[\"mt\"] = adata.var_names.str.startswith(\"mt\")  # \"MT-\" for human, \"Mt-\" for mouse\n",
    "# ribosomal genes\n",
    "adata.var[\"ribo\"] = adata.var_names.str.startswith((\"RPS\", \"RPL\"))\n",
    "# hemoglobin genes\n",
    "adata.var[\"hb\"] = adata.var_names.str.contains(\"^HB[^(P)]\")"
   ]
  },
  {
   "cell_type": "code",
   "execution_count": 14,
   "id": "a90e35d8-a12f-47f0-b34a-30c1dcd8e88a",
   "metadata": {},
   "outputs": [
    {
     "data": {
      "text/plain": [
       "array([False])"
      ]
     },
     "execution_count": 14,
     "metadata": {},
     "output_type": "execute_result"
    }
   ],
   "source": [
    "adata.var[\"ribo\"].unique()"
   ]
  },
  {
   "cell_type": "code",
   "execution_count": null,
   "id": "bc797eb5-61f0-4c22-9612-4e194307ead3",
   "metadata": {},
   "outputs": [],
   "source": [
    "sc.pp.calculate_qc_metrics(adata, qc_vars=[\"mt\", \"ribo\", \"hb\"], inplace=True, log1p=True)"
   ]
  },
  {
   "cell_type": "code",
   "execution_count": null,
   "id": "f1cdbd40-ae52-4501-87d2-36d6159a96f7",
   "metadata": {},
   "outputs": [],
   "source": []
  },
  {
   "cell_type": "code",
   "execution_count": null,
   "id": "75845d3f-b4af-4443-8b38-84b5a01e5dfe",
   "metadata": {},
   "outputs": [],
   "source": []
  },
  {
   "cell_type": "code",
   "execution_count": null,
   "id": "3cdd26ec-b994-4edb-b240-bfa251e60902",
   "metadata": {},
   "outputs": [],
   "source": []
  },
  {
   "cell_type": "code",
   "execution_count": null,
   "id": "ff63337a-a9f6-4eec-bbb9-0be7c5916703",
   "metadata": {},
   "outputs": [],
   "source": []
  },
  {
   "cell_type": "code",
   "execution_count": null,
   "id": "154ee480-f370-460c-a17b-ff7aba819e15",
   "metadata": {},
   "outputs": [],
   "source": []
  }
 ],
 "metadata": {
  "kernelspec": {
   "display_name": "Python 3 (ipykernel)",
   "language": "python",
   "name": "python3"
  },
  "language_info": {
   "codemirror_mode": {
    "name": "ipython",
    "version": 3
   },
   "file_extension": ".py",
   "mimetype": "text/x-python",
   "name": "python",
   "nbconvert_exporter": "python",
   "pygments_lexer": "ipython3",
   "version": "3.8.12"
  }
 },
 "nbformat": 4,
 "nbformat_minor": 5
}
